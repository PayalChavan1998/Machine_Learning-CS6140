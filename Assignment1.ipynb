{
 "cells": [
  {
   "cell_type": "markdown",
   "id": "614171ee-2db3-49e5-ba8f-882ddb96ac26",
   "metadata": {},
   "source": [
    "### Step 1: Import the Dataset"
   ]
  },
  {
   "cell_type": "code",
   "execution_count": 2,
   "id": "56151cd1-af3f-40f4-a6b5-95a068d96c01",
   "metadata": {},
   "outputs": [],
   "source": [
    "# Import all necessary libraries\n",
    "import numpy as np\n",
    "import pandas as pd\n",
    "from sklearn.datasets import load_diabetes\n",
    "from sklearn.model_selection import train_test_split, cross_val_score, KFold\n",
    "from sklearn.linear_model import LinearRegression\n",
    "from sklearn.metrics import mean_squared_error, mean_absolute_error, r2_score\n",
    "from sklearn.feature_selection import RFE\n",
    "from sklearn.preprocessing import StandardScaler\n",
    "from sklearn import metrics\n",
    "import matplotlib.pyplot as plt\n",
    "\n",
    "import warnings\n",
    "warnings.filterwarnings(\"ignore\")"
   ]
  },
  {
   "cell_type": "code",
   "execution_count": 3,
   "id": "dca3d7ad-4939-4a87-abdd-d3e59057c554",
   "metadata": {},
   "outputs": [],
   "source": [
    "# Load the diabetes dataset\n",
    "diabetes = load_diabetes()"
   ]
  },
  {
   "cell_type": "code",
   "execution_count": 4,
   "id": "67f6bdd3-719f-473f-9960-cf7d0e5610db",
   "metadata": {},
   "outputs": [
    {
     "name": "stdout",
     "output_type": "stream",
     "text": [
      ".. _diabetes_dataset:\n",
      "\n",
      "Diabetes dataset\n",
      "----------------\n",
      "\n",
      "Ten baseline variables, age, sex, body mass index, average blood\n",
      "pressure, and six blood serum measurements were obtained for each of n =\n",
      "442 diabetes patients, as well as the response of interest, a\n",
      "quantitative measure of disease progression one year after baseline.\n",
      "\n",
      "**Data Set Characteristics:**\n",
      "\n",
      "  :Number of Instances: 442\n",
      "\n",
      "  :Number of Attributes: First 10 columns are numeric predictive values\n",
      "\n",
      "  :Target: Column 11 is a quantitative measure of disease progression one year after baseline\n",
      "\n",
      "  :Attribute Information:\n",
      "      - age     age in years\n",
      "      - sex\n",
      "      - bmi     body mass index\n",
      "      - bp      average blood pressure\n",
      "      - s1      tc, total serum cholesterol\n",
      "      - s2      ldl, low-density lipoproteins\n",
      "      - s3      hdl, high-density lipoproteins\n",
      "      - s4      tch, total cholesterol / HDL\n",
      "      - s5      ltg, possibly log of serum triglycerides level\n",
      "      - s6      glu, blood sugar level\n",
      "\n",
      "Note: Each of these 10 feature variables have been mean centered and scaled by the standard deviation times the square root of `n_samples` (i.e. the sum of squares of each column totals 1).\n",
      "\n",
      "Source URL:\n",
      "https://www4.stat.ncsu.edu/~boos/var.select/diabetes.html\n",
      "\n",
      "For more information see:\n",
      "Bradley Efron, Trevor Hastie, Iain Johnstone and Robert Tibshirani (2004) \"Least Angle Regression,\" Annals of Statistics (with discussion), 407-499.\n",
      "(https://web.stanford.edu/~hastie/Papers/LARS/LeastAngle_2002.pdf)\n",
      "\n"
     ]
    }
   ],
   "source": [
    "# Check for available description of the dataset\n",
    "print(diabetes.DESCR)"
   ]
  },
  {
   "cell_type": "code",
   "execution_count": 5,
   "id": "8d16dafc-55e1-44a3-aa80-e3b166c278d7",
   "metadata": {},
   "outputs": [],
   "source": [
    "# Convert data to DataFrame\n",
    "diabetes_df = pd.DataFrame(data=diabetes.data, columns=diabetes.feature_names)\n",
    "diabetes_df['target'] = diabetes.target"
   ]
  },
  {
   "cell_type": "code",
   "execution_count": 6,
   "id": "e3d96e3b-d330-4aff-9e31-f43bcc6faa17",
   "metadata": {},
   "outputs": [
    {
     "data": {
      "text/html": [
       "<div>\n",
       "<style scoped>\n",
       "    .dataframe tbody tr th:only-of-type {\n",
       "        vertical-align: middle;\n",
       "    }\n",
       "\n",
       "    .dataframe tbody tr th {\n",
       "        vertical-align: top;\n",
       "    }\n",
       "\n",
       "    .dataframe thead th {\n",
       "        text-align: right;\n",
       "    }\n",
       "</style>\n",
       "<table border=\"1\" class=\"dataframe\">\n",
       "  <thead>\n",
       "    <tr style=\"text-align: right;\">\n",
       "      <th></th>\n",
       "      <th>age</th>\n",
       "      <th>sex</th>\n",
       "      <th>bmi</th>\n",
       "      <th>bp</th>\n",
       "      <th>s1</th>\n",
       "      <th>s2</th>\n",
       "      <th>s3</th>\n",
       "      <th>s4</th>\n",
       "      <th>s5</th>\n",
       "      <th>s6</th>\n",
       "      <th>target</th>\n",
       "    </tr>\n",
       "  </thead>\n",
       "  <tbody>\n",
       "    <tr>\n",
       "      <th>0</th>\n",
       "      <td>0.038076</td>\n",
       "      <td>0.050680</td>\n",
       "      <td>0.061696</td>\n",
       "      <td>0.021872</td>\n",
       "      <td>-0.044223</td>\n",
       "      <td>-0.034821</td>\n",
       "      <td>-0.043401</td>\n",
       "      <td>-0.002592</td>\n",
       "      <td>0.019907</td>\n",
       "      <td>-0.017646</td>\n",
       "      <td>151.0</td>\n",
       "    </tr>\n",
       "    <tr>\n",
       "      <th>1</th>\n",
       "      <td>-0.001882</td>\n",
       "      <td>-0.044642</td>\n",
       "      <td>-0.051474</td>\n",
       "      <td>-0.026328</td>\n",
       "      <td>-0.008449</td>\n",
       "      <td>-0.019163</td>\n",
       "      <td>0.074412</td>\n",
       "      <td>-0.039493</td>\n",
       "      <td>-0.068332</td>\n",
       "      <td>-0.092204</td>\n",
       "      <td>75.0</td>\n",
       "    </tr>\n",
       "    <tr>\n",
       "      <th>2</th>\n",
       "      <td>0.085299</td>\n",
       "      <td>0.050680</td>\n",
       "      <td>0.044451</td>\n",
       "      <td>-0.005670</td>\n",
       "      <td>-0.045599</td>\n",
       "      <td>-0.034194</td>\n",
       "      <td>-0.032356</td>\n",
       "      <td>-0.002592</td>\n",
       "      <td>0.002861</td>\n",
       "      <td>-0.025930</td>\n",
       "      <td>141.0</td>\n",
       "    </tr>\n",
       "    <tr>\n",
       "      <th>3</th>\n",
       "      <td>-0.089063</td>\n",
       "      <td>-0.044642</td>\n",
       "      <td>-0.011595</td>\n",
       "      <td>-0.036656</td>\n",
       "      <td>0.012191</td>\n",
       "      <td>0.024991</td>\n",
       "      <td>-0.036038</td>\n",
       "      <td>0.034309</td>\n",
       "      <td>0.022688</td>\n",
       "      <td>-0.009362</td>\n",
       "      <td>206.0</td>\n",
       "    </tr>\n",
       "    <tr>\n",
       "      <th>4</th>\n",
       "      <td>0.005383</td>\n",
       "      <td>-0.044642</td>\n",
       "      <td>-0.036385</td>\n",
       "      <td>0.021872</td>\n",
       "      <td>0.003935</td>\n",
       "      <td>0.015596</td>\n",
       "      <td>0.008142</td>\n",
       "      <td>-0.002592</td>\n",
       "      <td>-0.031988</td>\n",
       "      <td>-0.046641</td>\n",
       "      <td>135.0</td>\n",
       "    </tr>\n",
       "  </tbody>\n",
       "</table>\n",
       "</div>"
      ],
      "text/plain": [
       "        age       sex       bmi        bp        s1        s2        s3  \\\n",
       "0  0.038076  0.050680  0.061696  0.021872 -0.044223 -0.034821 -0.043401   \n",
       "1 -0.001882 -0.044642 -0.051474 -0.026328 -0.008449 -0.019163  0.074412   \n",
       "2  0.085299  0.050680  0.044451 -0.005670 -0.045599 -0.034194 -0.032356   \n",
       "3 -0.089063 -0.044642 -0.011595 -0.036656  0.012191  0.024991 -0.036038   \n",
       "4  0.005383 -0.044642 -0.036385  0.021872  0.003935  0.015596  0.008142   \n",
       "\n",
       "         s4        s5        s6  target  \n",
       "0 -0.002592  0.019907 -0.017646   151.0  \n",
       "1 -0.039493 -0.068332 -0.092204    75.0  \n",
       "2 -0.002592  0.002861 -0.025930   141.0  \n",
       "3  0.034309  0.022688 -0.009362   206.0  \n",
       "4 -0.002592 -0.031988 -0.046641   135.0  "
      ]
     },
     "execution_count": 6,
     "metadata": {},
     "output_type": "execute_result"
    }
   ],
   "source": [
    "# Display the first 5 rows of the dataset \n",
    "diabetes_df.head()"
   ]
  },
  {
   "cell_type": "code",
   "execution_count": 7,
   "id": "4b84d53c-e6a3-47b2-9961-97a51b5c5db3",
   "metadata": {},
   "outputs": [
    {
     "name": "stdout",
     "output_type": "stream",
     "text": [
      "Feature names: ['age', 'sex', 'bmi', 'bp', 's1', 's2', 's3', 's4', 's5', 's6']\n"
     ]
    }
   ],
   "source": [
    "# Check feature names\n",
    "print(\"Feature names:\", diabetes.feature_names)"
   ]
  },
  {
   "cell_type": "code",
   "execution_count": 8,
   "id": "e3dd14f6-d293-4cb5-9f9f-5ffa286b5a25",
   "metadata": {},
   "outputs": [
    {
     "data": {
      "text/plain": [
       "(442, 11)"
      ]
     },
     "execution_count": 8,
     "metadata": {},
     "output_type": "execute_result"
    }
   ],
   "source": [
    "# Take a look at the data structure\n",
    "diabetes_df.shape"
   ]
  },
  {
   "cell_type": "markdown",
   "id": "28abfcf3-5c78-4617-b44a-2f90689c8239",
   "metadata": {},
   "source": [
    "The dataset contains 442 samples with 10 input features and 1 target variable."
   ]
  },
  {
   "cell_type": "code",
   "execution_count": 10,
   "id": "d91009e7-7e77-4db9-9eee-ba3f65cc40ac",
   "metadata": {},
   "outputs": [
    {
     "name": "stdout",
     "output_type": "stream",
     "text": [
      "<class 'pandas.core.frame.DataFrame'>\n",
      "RangeIndex: 442 entries, 0 to 441\n",
      "Data columns (total 11 columns):\n",
      " #   Column  Non-Null Count  Dtype  \n",
      "---  ------  --------------  -----  \n",
      " 0   age     442 non-null    float64\n",
      " 1   sex     442 non-null    float64\n",
      " 2   bmi     442 non-null    float64\n",
      " 3   bp      442 non-null    float64\n",
      " 4   s1      442 non-null    float64\n",
      " 5   s2      442 non-null    float64\n",
      " 6   s3      442 non-null    float64\n",
      " 7   s4      442 non-null    float64\n",
      " 8   s5      442 non-null    float64\n",
      " 9   s6      442 non-null    float64\n",
      " 10  target  442 non-null    float64\n",
      "dtypes: float64(11)\n",
      "memory usage: 38.1 KB\n"
     ]
    }
   ],
   "source": [
    "# Check for data types and null values\n",
    "diabetes_df.info()"
   ]
  },
  {
   "cell_type": "markdown",
   "id": "9803354c-47a1-4b71-9551-2c0723257e8f",
   "metadata": {},
   "source": [
    "### Step 2: Data Preprocessing"
   ]
  },
  {
   "cell_type": "code",
   "execution_count": 12,
   "id": "05b57129-c152-4a69-ba85-0232be73b1fb",
   "metadata": {},
   "outputs": [
    {
     "data": {
      "text/plain": [
       "age       0\n",
       "sex       0\n",
       "bmi       0\n",
       "bp        0\n",
       "s1        0\n",
       "s2        0\n",
       "s3        0\n",
       "s4        0\n",
       "s5        0\n",
       "s6        0\n",
       "target    0\n",
       "dtype: int64"
      ]
     },
     "execution_count": 12,
     "metadata": {},
     "output_type": "execute_result"
    }
   ],
   "source": [
    "# Check for missing values in the dataset\n",
    "diabetes_df.isnull().sum()"
   ]
  },
  {
   "cell_type": "code",
   "execution_count": 13,
   "id": "81ed6e7a-3898-48ad-94ab-ba8c8d799150",
   "metadata": {},
   "outputs": [
    {
     "data": {
      "text/plain": [
       "False"
      ]
     },
     "execution_count": 13,
     "metadata": {},
     "output_type": "execute_result"
    }
   ],
   "source": [
    "# Check for duplicate records in the dataset\n",
    "diabetes_df.duplicated().any()"
   ]
  },
  {
   "cell_type": "code",
   "execution_count": 14,
   "id": "b74c37be-a62e-4f89-9ddd-2134b0c69a16",
   "metadata": {},
   "outputs": [],
   "source": [
    "# Split data into features and target\n",
    "X = diabetes_df.drop('target', axis=1)\n",
    "y = diabetes_df['target']"
   ]
  },
  {
   "cell_type": "code",
   "execution_count": 15,
   "id": "12916d74-d554-4d9c-b87d-8dfebc60a9c0",
   "metadata": {},
   "outputs": [],
   "source": [
    "# Split the dataset into training and test sets (80%-20% split)\n",
    "X_train, X_test, y_train, y_test = train_test_split(X, y, test_size=0.2, random_state=42)"
   ]
  },
  {
   "cell_type": "code",
   "execution_count": 16,
   "id": "84a9987b-03ac-49d2-9785-bfe6fe3f16f8",
   "metadata": {},
   "outputs": [],
   "source": [
    "# Standardize the features\n",
    "scaler = StandardScaler()\n",
    "X_train_scaled = scaler.fit_transform(X_train)\n",
    "X_test_scaled = scaler.transform(X_test)"
   ]
  },
  {
   "cell_type": "code",
   "execution_count": 17,
   "id": "272de094-69d3-48d0-8af5-5e0fe8fa4a44",
   "metadata": {},
   "outputs": [
    {
     "name": "stdout",
     "output_type": "stream",
     "text": [
      "Training set shape: (353, 10)\n",
      "Test set shape: (89, 10)\n"
     ]
    }
   ],
   "source": [
    "# Display the shapes of the resulting datasets\n",
    "print(\"Training set shape:\", X_train_scaled.shape)\n",
    "print(\"Test set shape:\", X_test_scaled.shape)"
   ]
  },
  {
   "cell_type": "markdown",
   "id": "22ed2534-7f97-4beb-809e-85bea0617c13",
   "metadata": {},
   "source": [
    "### Step 3: Model Training"
   ]
  },
  {
   "cell_type": "code",
   "execution_count": 19,
   "id": "08889e5e-e88c-4c54-8c94-b3cda6303331",
   "metadata": {},
   "outputs": [],
   "source": [
    "# Initialize Linear Regression model\n",
    "model = LinearRegression()"
   ]
  },
  {
   "cell_type": "code",
   "execution_count": 20,
   "id": "25bf0ee6-4252-4afd-b41a-89ec4b9182f3",
   "metadata": {},
   "outputs": [
    {
     "data": {
      "text/html": [
       "<style>#sk-container-id-1 {color: black;}#sk-container-id-1 pre{padding: 0;}#sk-container-id-1 div.sk-toggleable {background-color: white;}#sk-container-id-1 label.sk-toggleable__label {cursor: pointer;display: block;width: 100%;margin-bottom: 0;padding: 0.3em;box-sizing: border-box;text-align: center;}#sk-container-id-1 label.sk-toggleable__label-arrow:before {content: \"▸\";float: left;margin-right: 0.25em;color: #696969;}#sk-container-id-1 label.sk-toggleable__label-arrow:hover:before {color: black;}#sk-container-id-1 div.sk-estimator:hover label.sk-toggleable__label-arrow:before {color: black;}#sk-container-id-1 div.sk-toggleable__content {max-height: 0;max-width: 0;overflow: hidden;text-align: left;background-color: #f0f8ff;}#sk-container-id-1 div.sk-toggleable__content pre {margin: 0.2em;color: black;border-radius: 0.25em;background-color: #f0f8ff;}#sk-container-id-1 input.sk-toggleable__control:checked~div.sk-toggleable__content {max-height: 200px;max-width: 100%;overflow: auto;}#sk-container-id-1 input.sk-toggleable__control:checked~label.sk-toggleable__label-arrow:before {content: \"▾\";}#sk-container-id-1 div.sk-estimator input.sk-toggleable__control:checked~label.sk-toggleable__label {background-color: #d4ebff;}#sk-container-id-1 div.sk-label input.sk-toggleable__control:checked~label.sk-toggleable__label {background-color: #d4ebff;}#sk-container-id-1 input.sk-hidden--visually {border: 0;clip: rect(1px 1px 1px 1px);clip: rect(1px, 1px, 1px, 1px);height: 1px;margin: -1px;overflow: hidden;padding: 0;position: absolute;width: 1px;}#sk-container-id-1 div.sk-estimator {font-family: monospace;background-color: #f0f8ff;border: 1px dotted black;border-radius: 0.25em;box-sizing: border-box;margin-bottom: 0.5em;}#sk-container-id-1 div.sk-estimator:hover {background-color: #d4ebff;}#sk-container-id-1 div.sk-parallel-item::after {content: \"\";width: 100%;border-bottom: 1px solid gray;flex-grow: 1;}#sk-container-id-1 div.sk-label:hover label.sk-toggleable__label {background-color: #d4ebff;}#sk-container-id-1 div.sk-serial::before {content: \"\";position: absolute;border-left: 1px solid gray;box-sizing: border-box;top: 0;bottom: 0;left: 50%;z-index: 0;}#sk-container-id-1 div.sk-serial {display: flex;flex-direction: column;align-items: center;background-color: white;padding-right: 0.2em;padding-left: 0.2em;position: relative;}#sk-container-id-1 div.sk-item {position: relative;z-index: 1;}#sk-container-id-1 div.sk-parallel {display: flex;align-items: stretch;justify-content: center;background-color: white;position: relative;}#sk-container-id-1 div.sk-item::before, #sk-container-id-1 div.sk-parallel-item::before {content: \"\";position: absolute;border-left: 1px solid gray;box-sizing: border-box;top: 0;bottom: 0;left: 50%;z-index: -1;}#sk-container-id-1 div.sk-parallel-item {display: flex;flex-direction: column;z-index: 1;position: relative;background-color: white;}#sk-container-id-1 div.sk-parallel-item:first-child::after {align-self: flex-end;width: 50%;}#sk-container-id-1 div.sk-parallel-item:last-child::after {align-self: flex-start;width: 50%;}#sk-container-id-1 div.sk-parallel-item:only-child::after {width: 0;}#sk-container-id-1 div.sk-dashed-wrapped {border: 1px dashed gray;margin: 0 0.4em 0.5em 0.4em;box-sizing: border-box;padding-bottom: 0.4em;background-color: white;}#sk-container-id-1 div.sk-label label {font-family: monospace;font-weight: bold;display: inline-block;line-height: 1.2em;}#sk-container-id-1 div.sk-label-container {text-align: center;}#sk-container-id-1 div.sk-container {/* jupyter's `normalize.less` sets `[hidden] { display: none; }` but bootstrap.min.css set `[hidden] { display: none !important; }` so we also need the `!important` here to be able to override the default hidden behavior on the sphinx rendered scikit-learn.org. See: https://github.com/scikit-learn/scikit-learn/issues/21755 */display: inline-block !important;position: relative;}#sk-container-id-1 div.sk-text-repr-fallback {display: none;}</style><div id=\"sk-container-id-1\" class=\"sk-top-container\"><div class=\"sk-text-repr-fallback\"><pre>LinearRegression()</pre><b>In a Jupyter environment, please rerun this cell to show the HTML representation or trust the notebook. <br />On GitHub, the HTML representation is unable to render, please try loading this page with nbviewer.org.</b></div><div class=\"sk-container\" hidden><div class=\"sk-item\"><div class=\"sk-estimator sk-toggleable\"><input class=\"sk-toggleable__control sk-hidden--visually\" id=\"sk-estimator-id-1\" type=\"checkbox\" checked><label for=\"sk-estimator-id-1\" class=\"sk-toggleable__label sk-toggleable__label-arrow\">LinearRegression</label><div class=\"sk-toggleable__content\"><pre>LinearRegression()</pre></div></div></div></div></div>"
      ],
      "text/plain": [
       "LinearRegression()"
      ]
     },
     "execution_count": 20,
     "metadata": {},
     "output_type": "execute_result"
    }
   ],
   "source": [
    "# Train the model using the training set\n",
    "model.fit(X_train_scaled, y_train)"
   ]
  },
  {
   "cell_type": "markdown",
   "id": "fb6837bf-5d78-4bdb-a248-9a839bdb7540",
   "metadata": {},
   "source": [
    "### Step 4: Model Prediction"
   ]
  },
  {
   "cell_type": "code",
   "execution_count": 22,
   "id": "51b673cc-af4e-4869-9d10-93c496307825",
   "metadata": {},
   "outputs": [],
   "source": [
    "# Predict the target values for the test set\n",
    "y_pred = model.predict(X_test_scaled)"
   ]
  },
  {
   "cell_type": "markdown",
   "id": "52831784-c036-4420-9dad-9c406bf4d62d",
   "metadata": {},
   "source": [
    "### Step 5: Model Evaluation"
   ]
  },
  {
   "cell_type": "code",
   "execution_count": 24,
   "id": "86f99a64-594c-4a52-9d1a-f96b4a369f39",
   "metadata": {},
   "outputs": [
    {
     "name": "stdout",
     "output_type": "stream",
     "text": [
      "Mean Squared Error: 2900.19\n",
      "Root Mean Squared Error: 53.85\n",
      "R-squared: 0.45\n"
     ]
    }
   ],
   "source": [
    "# Evaluate the model\n",
    "# We will use Mean Squared Error (MSE), Root Mean Squared Error (RMSE), and R-sqaured as evaluation metrics\n",
    "mse = metrics.mean_squared_error(y_test, y_pred)\n",
    "rmse = np.sqrt(metrics.mean_squared_error(y_test, y_pred))\n",
    "r2 = r2_score(y_test, y_pred)\n",
    "    \n",
    "# Print the evaluation metrics\n",
    "print(f'Mean Squared Error: {mse:.2f}')\n",
    "print(f'Root Mean Squared Error: {rmse:.2f}')\n",
    "print(f'R-squared: {r2:.2f}')"
   ]
  },
  {
   "cell_type": "markdown",
   "id": "0b8a3972-f634-47ea-9e90-482054fb0486",
   "metadata": {},
   "source": [
    "The RMSE of 53.85 means that, on average, our predictions are off by about 53.85 units from the actual values. An R-squared score of 0.45 indicates that our model accounts for approximately 45% of the variance in the target variable, suggesting a moderate level of fit."
   ]
  },
  {
   "cell_type": "markdown",
   "id": "f451d68b-10c8-4848-b5be-98560d478d96",
   "metadata": {},
   "source": [
    "### Step 6: Visualization"
   ]
  },
  {
   "cell_type": "code",
   "execution_count": 27,
   "id": "0052fcd1-76e7-4701-871d-c471e1ca1ffc",
   "metadata": {},
   "outputs": [
    {
     "data": {
      "image/png": "[encoded data removed]",
      "text/plain": [
       "<Figure size 1000x600 with 1 Axes>"
      ]
     },
     "metadata": {},
     "output_type": "display_data"
    }
   ],
   "source": [
    "# Visualization 1: Plot actual vs predicted values\n",
    "plt.figure(figsize=(10, 6))\n",
    "plt.scatter(y_test, y_pred, color='blue', alpha=0.5)\n",
    "plt.plot([y_test.min(), y_test.max()], [y_test.min(), y_test.max()], 'r--')\n",
    "plt.xlabel(\"Actual Values\")\n",
    "plt.ylabel(\"Predicted Values\")\n",
    "plt.title(\"Actual vs Predicted Values\")\n",
    "plt.tight_layout()\n",
    "plt.show()"
   ]
  },
  {
   "cell_type": "markdown",
   "id": "cac8b352-2bb7-4d4d-b9b6-028a96c93aa8",
   "metadata": {},
   "source": [
    "This scatter plot illustrates the actual versus predicted values. The red dashed line signifies perfect predictions, and points that are nearer to this line indicate more accurate predictions. Although there is a positive correlation between the actual and predicted values, the significant scatter suggests that the model’s predictions could still be improved."
   ]
  },
  {
   "cell_type": "code",
   "execution_count": 29,
   "id": "94c593b1-d694-4da7-bde4-dfb7d35963b3",
   "metadata": {},
   "outputs": [
    {
     "data": {
      "image/png": "[encoded data removed]",
      "text/plain": [
       "<Figure size 1000x600 with 1 Axes>"
      ]
     },
     "metadata": {},
     "output_type": "display_data"
    }
   ],
   "source": [
    "# Visualization 2: Plot residuals plot\n",
    "residuals = y_test - y_pred\n",
    "plt.figure(figsize=(10, 6))\n",
    "plt.scatter(y_pred, residuals, color='blue', alpha=0.5)\n",
    "plt.axhline(y=0, color='r', linestyle='--')\n",
    "plt.xlabel(\"Predicted Values\")\n",
    "plt.ylabel(\"Residuals\")\n",
    "plt.title(\"Residuals Plot\")\n",
    "plt.tight_layout()\n",
    "plt.show()"
   ]
  },
  {
   "cell_type": "markdown",
   "id": "9d09ba39-1f2b-47e4-bfbf-9c367b8c8111",
   "metadata": {},
   "source": [
    "This plot displays the residuals (the differences between actual and predicted values) against the predicted values. Ideally, we aim for a random scatter of points around the horizontal line at y=0. In this instance, we observe the following:\n",
    "\n",
    "- The residuals are approximately symmetrically distributed around the horizontal line at y=0.\n",
    "- There is no clear pattern in the residuals, which is a positive sign.\n",
    "- However, there appears to be slightly greater variance in the residuals for higher predicted values, indicating that the model's performance may vary across the prediction range."
   ]
  },
  {
   "cell_type": "markdown",
   "id": "0dbed6d0-74dc-4438-96e7-b8090144860c",
   "metadata": {},
   "source": [
    "### Step 7: Feature Selection"
   ]
  },
  {
   "cell_type": "code",
   "execution_count": 32,
   "id": "9c1ba6fe-38f0-4c6f-96b4-d6070649280a",
   "metadata": {},
   "outputs": [],
   "source": [
    "# Feature Selection using RFE\n",
    "rfe = RFE(estimator=LinearRegression(), n_features_to_select=5)\n",
    "rfe = rfe.fit(X_train_scaled, y_train)"
   ]
  },
  {
   "cell_type": "code",
   "execution_count": 33,
   "id": "6580ca2f-cd6a-4bc6-bb91-420f80367098",
   "metadata": {},
   "outputs": [
    {
     "name": "stdout",
     "output_type": "stream",
     "text": [
      "Top 5 features selected by RFE:\n",
      "['bmi', 'bp', 's1', 's2', 's5']\n"
     ]
    }
   ],
   "source": [
    "# Get the selected features\n",
    "selected_features = [diabetes.feature_names[i] for i in range(len(diabetes.feature_names)) if rfe.support_[i]]\n",
    "print(\"Top 5 features selected by RFE:\")\n",
    "print(selected_features)"
   ]
  },
  {
   "cell_type": "code",
   "execution_count": 34,
   "id": "c00a3dbe-8fe0-43a6-90bf-f88491f639d5",
   "metadata": {},
   "outputs": [],
   "source": [
    "# Re-run the model with selected features\n",
    "X_train_selected = X_train_scaled[:, rfe.support_]\n",
    "X_test_selected = X_test_scaled[:, rfe.support_]"
   ]
  },
  {
   "cell_type": "code",
   "execution_count": 35,
   "id": "248eecb5-270a-4663-82e6-c547be1edeb6",
   "metadata": {},
   "outputs": [
    {
     "data": {
      "text/html": [
       "<style>#sk-container-id-2 {color: black;}#sk-container-id-2 pre{padding: 0;}#sk-container-id-2 div.sk-toggleable {background-color: white;}#sk-container-id-2 label.sk-toggleable__label {cursor: pointer;display: block;width: 100%;margin-bottom: 0;padding: 0.3em;box-sizing: border-box;text-align: center;}#sk-container-id-2 label.sk-toggleable__label-arrow:before {content: \"▸\";float: left;margin-right: 0.25em;color: #696969;}#sk-container-id-2 label.sk-toggleable__label-arrow:hover:before {color: black;}#sk-container-id-2 div.sk-estimator:hover label.sk-toggleable__label-arrow:before {color: black;}#sk-container-id-2 div.sk-toggleable__content {max-height: 0;max-width: 0;overflow: hidden;text-align: left;background-color: #f0f8ff;}#sk-container-id-2 div.sk-toggleable__content pre {margin: 0.2em;color: black;border-radius: 0.25em;background-color: #f0f8ff;}#sk-container-id-2 input.sk-toggleable__control:checked~div.sk-toggleable__content {max-height: 200px;max-width: 100%;overflow: auto;}#sk-container-id-2 input.sk-toggleable__control:checked~label.sk-toggleable__label-arrow:before {content: \"▾\";}#sk-container-id-2 div.sk-estimator input.sk-toggleable__control:checked~label.sk-toggleable__label {background-color: #d4ebff;}#sk-container-id-2 div.sk-label input.sk-toggleable__control:checked~label.sk-toggleable__label {background-color: #d4ebff;}#sk-container-id-2 input.sk-hidden--visually {border: 0;clip: rect(1px 1px 1px 1px);clip: rect(1px, 1px, 1px, 1px);height: 1px;margin: -1px;overflow: hidden;padding: 0;position: absolute;width: 1px;}#sk-container-id-2 div.sk-estimator {font-family: monospace;background-color: #f0f8ff;border: 1px dotted black;border-radius: 0.25em;box-sizing: border-box;margin-bottom: 0.5em;}#sk-container-id-2 div.sk-estimator:hover {background-color: #d4ebff;}#sk-container-id-2 div.sk-parallel-item::after {content: \"\";width: 100%;border-bottom: 1px solid gray;flex-grow: 1;}#sk-container-id-2 div.sk-label:hover label.sk-toggleable__label {background-color: #d4ebff;}#sk-container-id-2 div.sk-serial::before {content: \"\";position: absolute;border-left: 1px solid gray;box-sizing: border-box;top: 0;bottom: 0;left: 50%;z-index: 0;}#sk-container-id-2 div.sk-serial {display: flex;flex-direction: column;align-items: center;background-color: white;padding-right: 0.2em;padding-left: 0.2em;position: relative;}#sk-container-id-2 div.sk-item {position: relative;z-index: 1;}#sk-container-id-2 div.sk-parallel {display: flex;align-items: stretch;justify-content: center;background-color: white;position: relative;}#sk-container-id-2 div.sk-item::before, #sk-container-id-2 div.sk-parallel-item::before {content: \"\";position: absolute;border-left: 1px solid gray;box-sizing: border-box;top: 0;bottom: 0;left: 50%;z-index: -1;}#sk-container-id-2 div.sk-parallel-item {display: flex;flex-direction: column;z-index: 1;position: relative;background-color: white;}#sk-container-id-2 div.sk-parallel-item:first-child::after {align-self: flex-end;width: 50%;}#sk-container-id-2 div.sk-parallel-item:last-child::after {align-self: flex-start;width: 50%;}#sk-container-id-2 div.sk-parallel-item:only-child::after {width: 0;}#sk-container-id-2 div.sk-dashed-wrapped {border: 1px dashed gray;margin: 0 0.4em 0.5em 0.4em;box-sizing: border-box;padding-bottom: 0.4em;background-color: white;}#sk-container-id-2 div.sk-label label {font-family: monospace;font-weight: bold;display: inline-block;line-height: 1.2em;}#sk-container-id-2 div.sk-label-container {text-align: center;}#sk-container-id-2 div.sk-container {/* jupyter's `normalize.less` sets `[hidden] { display: none; }` but bootstrap.min.css set `[hidden] { display: none !important; }` so we also need the `!important` here to be able to override the default hidden behavior on the sphinx rendered scikit-learn.org. See: https://github.com/scikit-learn/scikit-learn/issues/21755 */display: inline-block !important;position: relative;}#sk-container-id-2 div.sk-text-repr-fallback {display: none;}</style><div id=\"sk-container-id-2\" class=\"sk-top-container\"><div class=\"sk-text-repr-fallback\"><pre>LinearRegression()</pre><b>In a Jupyter environment, please rerun this cell to show the HTML representation or trust the notebook. <br />On GitHub, the HTML representation is unable to render, please try loading this page with nbviewer.org.</b></div><div class=\"sk-container\" hidden><div class=\"sk-item\"><div class=\"sk-estimator sk-toggleable\"><input class=\"sk-toggleable__control sk-hidden--visually\" id=\"sk-estimator-id-2\" type=\"checkbox\" checked><label for=\"sk-estimator-id-2\" class=\"sk-toggleable__label sk-toggleable__label-arrow\">LinearRegression</label><div class=\"sk-toggleable__content\"><pre>LinearRegression()</pre></div></div></div></div></div>"
      ],
      "text/plain": [
       "LinearRegression()"
      ]
     },
     "execution_count": 35,
     "metadata": {},
     "output_type": "execute_result"
    }
   ],
   "source": [
    "model_selected = LinearRegression()\n",
    "model_selected.fit(X_train_selected, y_train)"
   ]
  },
  {
   "cell_type": "code",
   "execution_count": 36,
   "id": "8897f40d-380f-4258-a131-41576848b9e3",
   "metadata": {},
   "outputs": [],
   "source": [
    "y_pred_selected = model_selected.predict(X_test_selected)"
   ]
  },
  {
   "cell_type": "code",
   "execution_count": 37,
   "id": "0bb56185-c670-406e-b19a-3aaaccbf52b3",
   "metadata": {},
   "outputs": [
    {
     "name": "stdout",
     "output_type": "stream",
     "text": [
      "Model Evaluation with Selected Features:\n",
      "Root Mean Squared Error (RMSE): 54.56\n",
      "R-sqaured: 0.44\n"
     ]
    }
   ],
   "source": [
    "# Evaluate the new model\n",
    "mse_selected = mean_squared_error(y_test, y_pred_selected)\n",
    "rmse_selected = np.sqrt(mse_selected)\n",
    "r2_selected = r2_score(y_test, y_pred_selected)\n",
    "\n",
    "# Print the evaluation metrics for selected features\n",
    "print(\"\\\n",
    "Model Evaluation with Selected Features:\")\n",
    "print(f\"Root Mean Squared Error (RMSE): {rmse_selected:.2f}\")\n",
    "print(f\"R-sqaured: {r2_selected:.2f}\")"
   ]
  },
  {
   "cell_type": "code",
   "execution_count": 38,
   "id": "0c852877-7f60-442a-8f2e-855b6abf59cd",
   "metadata": {},
   "outputs": [
    {
     "name": "stdout",
     "output_type": "stream",
     "text": [
      "Original Model Evaluation:\n",
      "Root Mean Squared Error (RMSE): 53.85\n",
      "R-sqaured: 0.45\n"
     ]
    }
   ],
   "source": [
    "# Compare with original model\n",
    "mse_original = mean_squared_error(y_test, y_pred)\n",
    "rmse_original = np.sqrt(mse_original)\n",
    "r2_original = r2_score(y_test, y_pred)\n",
    "\n",
    "# Print the evaluation metrics for original features\n",
    "print(\"\\\n",
    "Original Model Evaluation:\")\n",
    "print(f\"Root Mean Squared Error (RMSE): {rmse_original:.2f}\")\n",
    "print(f\"R-sqaured: {r2_original:.2f}\")"
   ]
  },
  {
   "cell_type": "markdown",
   "id": "b864b0f4-4a4d-44bc-b6cf-a2da2f10ed9d",
   "metadata": {},
   "source": [
    "Model Performance Comparison:\n",
    "\n",
    "Original Model (10 features):\n",
    "- RMSE: 53.85\n",
    "- R-sqaured: 0.45\n",
    "\n",
    "New Model (5 selected features):\n",
    "- RMSE: 54.56\n",
    "- R-sqaured: 0.44"
   ]
  },
  {
   "cell_type": "markdown",
   "id": "eed5d447-cce7-4c56-9130-166549495d03",
   "metadata": {},
   "source": [
    "The model's performance with the selected features is nearly identical to the original model. The slight drop in performance (indicated by a higher RMSE and a lower R-sqaured Score) implies that the removed features did provide some information, but their contribution was not significant."
   ]
  },
  {
   "cell_type": "code",
   "execution_count": 41,
   "id": "6ef61bc9-0a6e-4ed8-8ad8-b52a64608b66",
   "metadata": {},
   "outputs": [
    {
     "name": "stdout",
     "output_type": "stream",
     "text": [
      "Feature Importance (Selected Features):\n",
      "  feature  importance\n",
      "4      s5   34.800355\n",
      "2      s1   31.282091\n",
      "0     bmi   28.225480\n",
      "3      s2   19.483143\n",
      "1      bp   14.841764\n"
     ]
    }
   ],
   "source": [
    "# Feature importance for selected features\n",
    "feature_importance = pd.DataFrame({'feature': selected_features, 'importance': abs(model_selected.coef_)})\n",
    "feature_importance = feature_importance.sort_values('importance', ascending=False)\n",
    "print(\"\\\n",
    "Feature Importance (Selected Features):\")\n",
    "print(feature_importance)"
   ]
  },
  {
   "cell_type": "code",
   "execution_count": 42,
   "id": "c43fb0d8-f783-43e0-8361-3e3e5792efb4",
   "metadata": {},
   "outputs": [
    {
     "data": {
      "image/png": "[encoded data removed]",
      "text/plain": [
       "<Figure size 1000x600 with 1 Axes>"
      ]
     },
     "metadata": {},
     "output_type": "display_data"
    }
   ],
   "source": [
    "# Plot feature importance for selected features\n",
    "plt.figure(figsize=(10, 6))\n",
    "plt.bar(feature_importance['feature'], feature_importance['importance'])\n",
    "plt.xlabel(\"Features\")\n",
    "plt.ylabel(\"Absolute Coefficient Value\")\n",
    "plt.title(\"Feature Importance (Selected Features)\")\n",
    "plt.tight_layout()\n",
    "plt.show()"
   ]
  },
  {
   "cell_type": "markdown",
   "id": "bfb97973-e130-4f23-ac82-45550e5ba969",
   "metadata": {},
   "source": [
    "The bar chart shows the importance of the selected features based on their absolute coefficient values. BMI and Blood Pressure, recognized as risk factors for diabetes, are among the top 5 features, confirming their importance in predicting disease progression."
   ]
  },
  {
   "cell_type": "markdown",
   "id": "7d20fabb-1dd0-4172-9d7b-6e8d70546a31",
   "metadata": {},
   "source": [
    "\n",
    "      - bmi     body mass index\n",
    "      - bp      average blood pressure\n",
    "      - s1      tc, total serum cholesterol\n",
    "      - s2      ldl, low-density lipoproteins  \n",
    "      - s5      ltg, possibly log of serum triglycerides level\n"
   ]
  },
  {
   "cell_type": "markdown",
   "id": "fc75300b-8ef7-4efe-bdcc-5690a9395dd2",
   "metadata": {},
   "source": [
    "### Conclusions:"
   ]
  },
  {
   "cell_type": "markdown",
   "id": "cc0ddc9b-0335-4d01-962e-06f2ad34bbf2",
   "metadata": {},
   "source": [
    "- Feature Selection: The RFE method pinpointed 5 essential features that preserve nearly the same predictive power as the original 10 features. This streamlines the model with minimal performance loss.\n",
    "- The linear regression model, even after applying feature selection, accounts for approximately 44-45% of the variance in the target variable. This moderate performance indicates that:\n",
    "a. Non-linear relationships might exist that the linear model fails to capture.\n",
    "b. Important interactions between features might be overlooked.\n",
    "c. External factors not included in the dataset could be influencing disease progression.\n",
    "- Residuals Analysis: The residuals plot indicates no clear pattern, which is good. However, there is increased variance for higher predicted values, suggesting that the model’s performance may be inconsistent across the prediction range."
   ]
  }
 ],
 "metadata": {
  "kernelspec": {
   "display_name": "Python 3 (ipykernel)",
   "language": "python",
   "name": "python3"
  },
  "language_info": {
   "codemirror_mode": {
    "name": "ipython",
    "version": 3
   },
   "file_extension": ".py",
   "mimetype": "text/x-python",
   "name": "python",
   "nbconvert_exporter": "python",
   "pygments_lexer": "ipython3",
   "version": "3.11.5"
  }
 },
 "nbformat": 4,
 "nbformat_minor": 5
}
